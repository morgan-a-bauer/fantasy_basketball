{
 "cells": [
  {
   "cell_type": "markdown",
   "metadata": {},
   "source": [
    "Morgan Bauer\n",
    "score_prediction.ipynb\n",
    "Predicts the fantasy score of an individual NBA player for one game based on the\n",
    "last 10 games using an RNN."
   ]
  },
  {
   "cell_type": "markdown",
   "metadata": {},
   "source": [
    "Import required libraries"
   ]
  },
  {
   "cell_type": "code",
   "execution_count": 29,
   "metadata": {},
   "outputs": [],
   "source": [
    "import numpy as np\n",
    "import matplotlib.pyplot as plt\n",
    "import tensorflow as tf\n",
    "from tensorflow import keras\n",
    "from tensorflow.keras import layers\n",
    "import os\n",
    "import csv\n",
    "import pandas"
   ]
  },
  {
   "cell_type": "markdown",
   "metadata": {},
   "source": [
    "Define hyperparameters"
   ]
  },
  {
   "cell_type": "code",
   "execution_count": 35,
   "metadata": {},
   "outputs": [],
   "source": [
    "sampling_rate = 1\n",
    "sequence_length = 10\n",
    "delay = sampling_rate * (sequence_length)\n",
    "batch_size = 78\n",
    "buffer_size = 512\n",
    "epochs = 4"
   ]
  },
  {
   "cell_type": "markdown",
   "metadata": {},
   "source": [
    "Calculate normalization constants"
   ]
  },
  {
   "cell_type": "code",
   "execution_count": 31,
   "metadata": {},
   "outputs": [
    {
     "name": "stdout",
     "output_type": "stream",
     "text": [
      "train: 18955\n",
      "val: 2369\n",
      "test: 2370\n",
      "mean [25.78797151 22.63604326  0.500976   14.47850171  0.52007386  4.19250857\n",
      "  8.87776312  0.44516059  1.26325508  3.48050646  0.27037953  1.80838829\n",
      "  2.28198365  0.44997916  1.0112899   3.20532841  4.21661831  2.57483514\n",
      "  0.74212609  0.45692429  1.33996307  1.96855711 11.45666051 23.98674228]\n",
      "std dev: [ 4.19943884 14.79896632  0.49999905  8.65658292  0.49959688  3.32711882\n",
      "  6.19428595  0.24414504  1.53138893  3.12987618  0.28908323  2.49189735\n",
      "  2.93310449  0.43673813  1.33818745  2.6600284   3.33981177  2.68811973\n",
      "  0.97857589  0.81257522  1.42719707  1.48487956  9.09647912 10.64887321]\n"
     ]
    }
   ],
   "source": [
    "# Use to calculate mean and std dev\n",
    "teams = {'ATL': '0',\n",
    "         'BOS': '1',\n",
    "         'BRK': '2',\n",
    "         'CHO': '3',\n",
    "         'CHI': '4',\n",
    "         'CLE': '5',\n",
    "         'DAL': '6',\n",
    "         'DEN': '7',\n",
    "         'DET': '8',\n",
    "         'GSW': '9',\n",
    "         'HOU': '10',\n",
    "         'IND': '11',\n",
    "         'LAC': '12',\n",
    "         'LAL': '13',\n",
    "         'MEM': '14',\n",
    "         'MIA': '15',\n",
    "         'MIL': '16',\n",
    "         'MIN': '17',\n",
    "         'NOP': '18',\n",
    "         'NYK': '19',\n",
    "         'OKC': '20',\n",
    "         'ORL': '21',\n",
    "         'PHI': '22',\n",
    "         'PHO': '23',\n",
    "         'POR': '24',\n",
    "         'SAC': '25',\n",
    "         'SAS': '26',\n",
    "         'TOR': '27',\n",
    "         'UTA': '28',\n",
    "         'WAS': '29'}\n",
    "         \n",
    "main_dir = \"/Users/morganbauer/Documents/GitHub/fantasy_basketball/rnn_score_prediction/training_data\"\n",
    "all_fan_pts = np.zeros(23694)\n",
    "all_raw_data = np.zeros((23694, 24))\n",
    "fan_pts_index = 0\n",
    "raw_data_index = 0\n",
    "count = 0\n",
    "for sub_dir in os.listdir(main_dir):\n",
    "    path = f\"{main_dir}/{sub_dir}\"\n",
    "    try:\n",
    "        for file in os.listdir(path):\n",
    "            if file[:4] == '2023' or file[:4] == '2024':\n",
    "                file_path = f\"{path}/{file}\"\n",
    "                with open(file_path, \"r\") as infile:\n",
    "                    reader = csv.reader(infile)\n",
    "                    games = []\n",
    "                    for row in reader:\n",
    "                        try:\n",
    "                            row[3] = teams[row[3]]\n",
    "                            for pos, elem in enumerate(row):\n",
    "                                row[pos] = float(elem)\n",
    "                            games.append(row)\n",
    "                        except KeyError:\n",
    "                            pass\n",
    "                        except IndexError:\n",
    "                            pass\n",
    "                if len(games) > delay + 1:\n",
    "                    for i, game in enumerate(games):\n",
    "                        count += 1\n",
    "                        all_fan_pts[fan_pts_index] = game[1]\n",
    "                        all_raw_data[raw_data_index, :] = game\n",
    "                        fan_pts_index += 1\n",
    "                        raw_data_index += 1\n",
    "    except NotADirectoryError:\n",
    "        pass\n",
    "\n",
    "num_train_samples = int(0.8 * len(all_raw_data))\n",
    "num_val_samples = int(0.1 * len(all_raw_data))\n",
    "num_test_samples = len(all_raw_data) - num_train_samples - num_val_samples\n",
    "print(\"train:\", num_train_samples)\n",
    "print(\"val:\", num_val_samples)\n",
    "print(\"test:\", num_test_samples)\n",
    "\n",
    "mean = all_raw_data[:num_train_samples].mean(axis = 0)\n",
    "std_dev = all_raw_data[:num_train_samples].std(axis = 0)\n",
    "print(\"mean\", mean)\n",
    "print(\"std dev:\", std_dev)"
   ]
  },
  {
   "cell_type": "markdown",
   "metadata": {},
   "source": [
    "Prepare dataset"
   ]
  },
  {
   "cell_type": "code",
   "execution_count": 32,
   "metadata": {},
   "outputs": [],
   "source": [
    "dataset = None\n",
    "\n",
    "for sub_dir in os.listdir(main_dir):\n",
    "    path = f\"{main_dir}/{sub_dir}\"\n",
    "    try:\n",
    "        for file in os.listdir(path):\n",
    "            if file[:4] == '2023' or file[:4] == '2024':\n",
    "                file_path = f\"{path}/{file}\"\n",
    "                with open(file_path, \"r\") as infile:\n",
    "                    reader = csv.reader(infile)\n",
    "                    games = []\n",
    "                    for row in reader:\n",
    "                        try:\n",
    "                            row[3] = teams[row[3]]\n",
    "                            for pos, elem in enumerate(row):\n",
    "                                row[pos] = float(elem)\n",
    "                            games.append(row)\n",
    "                        except KeyError:\n",
    "                            pass\n",
    "                        except IndexError:\n",
    "                            pass\n",
    "                if len(games) > delay + 1:\n",
    "                    fan_pts = np.zeros(len(games))\n",
    "                    raw_data = np.zeros((len(games), len(games[0])))\n",
    "                    for i, game in enumerate(games):\n",
    "                        fan_pts[i] = game[1]\n",
    "                        raw_data[i, :] = game\n",
    "                    raw_data -= mean\n",
    "                    raw_data /= std_dev\n",
    "                    game_dataset = keras.utils.timeseries_dataset_from_array(\n",
    "                        raw_data[:-delay],\n",
    "                        targets = fan_pts[delay:],\n",
    "                        sampling_rate = sampling_rate,\n",
    "                        sequence_length = sequence_length,\n",
    "                        shuffle = True,\n",
    "                        batch_size = batch_size\n",
    "                    )\n",
    "                    if dataset is None:\n",
    "                        dataset = game_dataset\n",
    "                    else:\n",
    "                        dataset = dataset.concatenate(game_dataset)\n",
    "    except NotADirectoryError:\n",
    "        pass\n",
    "    if dataset is not None and len(dataset) == 300:\n",
    "        break\n",
    "#score_ds = dataset.shuffle(buffer_size=buffer_size)\n",
    "\n",
    "train_dataset = dataset.take(num_train_samples)\n",
    "val_dataset = dataset.skip(num_train_samples).take(num_val_samples)\n",
    "test_dataset = dataset.skip(num_train_samples + num_val_samples)"
   ]
  },
  {
   "cell_type": "markdown",
   "metadata": {},
   "source": [
    "Building and training the net"
   ]
  },
  {
   "cell_type": "code",
   "execution_count": 36,
   "metadata": {},
   "outputs": [
    {
     "name": "stdout",
     "output_type": "stream",
     "text": [
      "Epoch 1/4\n",
      "300/300 [==============================] - 20s 52ms/step - loss: nan - mae: nan\n",
      "Epoch 2/4\n",
      "300/300 [==============================] - 16s 52ms/step - loss: nan - mae: nan\n",
      "Epoch 3/4\n",
      "300/300 [==============================] - 15s 52ms/step - loss: nan - mae: nan\n",
      "Epoch 4/4\n",
      "300/300 [==============================] - 16s 52ms/step - loss: nan - mae: nan\n"
     ]
    }
   ],
   "source": [
    "inputs = keras.Input(shape = (sequence_length, raw_data.shape[-1]))\n",
    "x = layers.GRU(32, recurrent_dropout = 0.25, return_sequences = True)(inputs)\n",
    "x = layers.GRU(32, recurrent_dropout = 0.25)(x)\n",
    "x = layers.Dropout(0.5)(x)\n",
    "outputs = layers.Dense(1)(x)\n",
    "model = keras.Model(inputs, outputs)\n",
    "\n",
    "model.compile(optimizer = \"rmsprop\", loss = \"mse\", metrics = [\"mae\"])\n",
    "\n",
    "history = model.fit(train_dataset,\n",
    "                    epochs = epochs,\n",
    "                    validation_data = val_dataset)"
   ]
  },
  {
   "cell_type": "code",
   "execution_count": 37,
   "metadata": {},
   "outputs": [
    {
     "data": {
      "text/plain": [
       "Text(0.5, 0, 'Epoch')"
      ]
     },
     "execution_count": 37,
     "metadata": {},
     "output_type": "execute_result"
    },
    {
     "data": {
      "image/png": "[encoded data removed]",
      "text/plain": [
       "<Figure size 640x480 with 1 Axes>"
      ]
     },
     "metadata": {},
     "output_type": "display_data"
    }
   ],
   "source": [
    "pandas.DataFrame(history.history).plot()\n",
    "plt.grid(True)\n",
    "plt.title(\"Training\")\n",
    "plt.xlabel(\"Epoch\")"
   ]
  }
 ],
 "metadata": {
  "kernelspec": {
   "display_name": "Python 3.9.6 64-bit",
   "language": "python",
   "name": "python3"
  },
  "language_info": {
   "codemirror_mode": {
    "name": "ipython",
    "version": 3
   },
   "file_extension": ".py",
   "mimetype": "text/x-python",
   "name": "python",
   "nbconvert_exporter": "python",
   "pygments_lexer": "ipython3",
   "version": "3.9.6"
  },
  "orig_nbformat": 4,
  "vscode": {
   "interpreter": {
    "hash": "31f2aee4e71d21fbe5cf8b01ff0e069b9275f58929596ceb00d14d90e3e16cd6"
   }
  }
 },
 "nbformat": 4,
 "nbformat_minor": 2
}
