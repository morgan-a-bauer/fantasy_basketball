{
 "cells": [
  {
   "cell_type": "markdown",
   "metadata": {},
   "source": [
    "Morgan Bauer\n",
    "score_prediction.ipynb\n",
    "Predicts the fantasy score of an individual NBA player for one game based on the\n",
    "last 10 games using an RNN."
   ]
  },
  {
   "cell_type": "markdown",
   "metadata": {},
   "source": [
    "Import required libraries"
   ]
  },
  {
   "cell_type": "code",
   "execution_count": 17,
   "metadata": {},
   "outputs": [],
   "source": [
    "import numpy as np\n",
    "import matplotlib.pyplot as plt\n",
    "from tensorflow import keras\n",
    "from tensorflow.keras import layers\n",
    "import os\n",
    "import csv"
   ]
  },
  {
   "cell_type": "markdown",
   "metadata": {},
   "source": [
    "Prepare data"
   ]
  },
  {
   "cell_type": "code",
   "execution_count": 46,
   "metadata": {},
   "outputs": [
    {
     "ename": "TypeError",
     "evalue": "Cannot interpret '24' as a data type",
     "output_type": "error",
     "traceback": [
      "\u001b[0;31m---------------------------------------------------------------------------\u001b[0m",
      "\u001b[0;31mTypeError\u001b[0m                                 Traceback (most recent call last)",
      "Cell \u001b[0;32mIn[46], line 34\u001b[0m\n\u001b[1;32m     32\u001b[0m dataset \u001b[39m=\u001b[39m \u001b[39mNone\u001b[39;00m\n\u001b[1;32m     33\u001b[0m all_fan_pts \u001b[39m=\u001b[39m np\u001b[39m.\u001b[39mzeros(\u001b[39m24789\u001b[39m)\n\u001b[0;32m---> 34\u001b[0m all_raw_data \u001b[39m=\u001b[39m np\u001b[39m.\u001b[39;49mzeros(\u001b[39m24789\u001b[39;49m, \u001b[39m24\u001b[39;49m)\n\u001b[1;32m     35\u001b[0m fan_pts_index \u001b[39m=\u001b[39m \u001b[39m0\u001b[39m\n\u001b[1;32m     36\u001b[0m raw_data_index \u001b[39m=\u001b[39m \u001b[39m0\u001b[39m\n",
      "\u001b[0;31mTypeError\u001b[0m: Cannot interpret '24' as a data type"
     ]
    }
   ],
   "source": [
    "teams = {'ATL': '0',\n",
    "         'BOS': '1',\n",
    "         'BKN': '2',\n",
    "         'CHA': '3',\n",
    "         'CHI': '4',\n",
    "         'CLE': '5',\n",
    "         'DAL': '6',\n",
    "         'DEN': '7',\n",
    "         'DET': '8',\n",
    "         'GSW': '9',\n",
    "         'HOU': '10',\n",
    "         'IND': '11',\n",
    "         'LAC': '12',\n",
    "         'LAL': '13',\n",
    "         'MEM': '14',\n",
    "         'MIA': '15',\n",
    "         'MIL': '16',\n",
    "         'MIN': '17',\n",
    "         'NOP': '18',\n",
    "         'NYK': '19',\n",
    "         'OKC': '20',\n",
    "         'ORL': '21',\n",
    "         'PHI': '22',\n",
    "         'PHO': '23',\n",
    "         'POR': '24',\n",
    "         'SAC': '25',\n",
    "         'SAS': '26',\n",
    "         'TOR': '27',\n",
    "         'UTA': '28',\n",
    "         'WAS': '29'}\n",
    "path = \"/Users/morganbauer/Documents/GitHub/fantasy_basketball/rnn_score_prediction/training_data/foxde01\"\n",
    "dataset = None\n",
    "all_fan_pts = np.zeros(24789)\n",
    "all_raw_data = np.zeros(24789, 24)\n",
    "fan_pts_index = 0\n",
    "raw_data_index = 0\n",
    "for file in os.listdir(path):\n",
    "    if file[:4] == '2023' or file[:4] == '2024':\n",
    "        print(file)\n",
    "        file_path = f\"{path}/{file}\"\n",
    "        with open(file_path, \"r\") as infile:\n",
    "            reader = csv.reader(infile)\n",
    "            games = []\n",
    "            for row in reader:\n",
    "                try:\n",
    "                    row[3] = teams[row[3]]\n",
    "                    for pos, elem in enumerate(row):\n",
    "                        row[pos] = float(elem)\n",
    "                    games.append(row)\n",
    "                except KeyError:\n",
    "                    pass\n",
    "        fan_pts = np.zeros(len(games))\n",
    "        raw_data = np.zeros((len(games), len(games[0])))\n",
    "        for i, game in enumerate(games):\n",
    "            fan_pts[i] = game[1]\n",
    "            raw_data[i, :] = game\n",
    "            all_fan_pts[fan_pts_index] = game[1]\n",
    "            all_raw_data[raw_data_index, :] = game\n",
    "            fan_pts_index += 1\n",
    "            raw_data_index += 1\n",
    "print(all_fan_pts)"
   ]
  }
 ],
 "metadata": {
  "kernelspec": {
   "display_name": "Python 3.9.6 64-bit",
   "language": "python",
   "name": "python3"
  },
  "language_info": {
   "codemirror_mode": {
    "name": "ipython",
    "version": 3
   },
   "file_extension": ".py",
   "mimetype": "text/x-python",
   "name": "python",
   "nbconvert_exporter": "python",
   "pygments_lexer": "ipython3",
   "version": "3.9.6"
  },
  "orig_nbformat": 4,
  "vscode": {
   "interpreter": {
    "hash": "31f2aee4e71d21fbe5cf8b01ff0e069b9275f58929596ceb00d14d90e3e16cd6"
   }
  }
 },
 "nbformat": 4,
 "nbformat_minor": 2
}
