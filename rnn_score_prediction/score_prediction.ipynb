{
 "cells": [
  {
   "cell_type": "markdown",
   "metadata": {},
   "source": [
    "Morgan Bauer\n",
    "score_prediction.ipynb\n",
    "Predicts the fantasy score of an individual NBA player for one game based on the\n",
    "last 10 games using an RNN."
   ]
  },
  {
   "cell_type": "markdown",
   "metadata": {},
   "source": [
    "Import required libraries"
   ]
  },
  {
   "cell_type": "code",
   "execution_count": 2,
   "metadata": {},
   "outputs": [
    {
     "name": "stderr",
     "output_type": "stream",
     "text": [
      "2023-12-02 14:12:20.073343: I tensorflow/core/platform/cpu_feature_guard.cc:182] This TensorFlow binary is optimized to use available CPU instructions in performance-critical operations.\n",
      "To enable the following instructions: AVX2 AVX512F AVX512_VNNI FMA, in other operations, rebuild TensorFlow with the appropriate compiler flags.\n"
     ]
    }
   ],
   "source": [
    "import numpy as np\n",
    "import matplotlib.pyplot as plt\n",
    "import tensorflow as tf\n",
    "from tensorflow import keras\n",
    "from tensorflow.keras import layers\n",
    "import os\n",
    "import csv"
   ]
  },
  {
   "cell_type": "markdown",
   "metadata": {},
   "source": [
    "Define hyperparameters"
   ]
  },
  {
   "cell_type": "code",
   "execution_count": 3,
   "metadata": {},
   "outputs": [],
   "source": [
    "sampling_rate = 1\n",
    "sequence_length = 10\n",
    "delay = sampling_rate * (sequence_length)\n",
    "batch_size = 256"
   ]
  },
  {
   "cell_type": "markdown",
   "metadata": {},
   "source": [
    "Prepare data"
   ]
  },
  {
   "cell_type": "code",
   "execution_count": 4,
   "metadata": {},
   "outputs": [
    {
     "ename": "",
     "evalue": "",
     "output_type": "error",
     "traceback": [
      "\u001b[1;31mCanceled future for execute_request message before replies were done"
     ]
    },
    {
     "ename": "",
     "evalue": "",
     "output_type": "error",
     "traceback": [
      "\u001b[1;31mThe Kernel crashed while executing code in the the current cell or a previous cell. Please review the code in the cell(s) to identify a possible cause of the failure. Click <a href='https://aka.ms/vscodeJupyterKernelCrash'>here</a> for more info. View Jupyter <a href='command:jupyter.viewOutput'>log</a> for further details."
     ]
    }
   ],
   "source": [
    "teams = {'ATL': '0',\n",
    "         'BOS': '1',\n",
    "         'BRK': '2',\n",
    "         'CHO': '3',\n",
    "         'CHI': '4',\n",
    "         'CLE': '5',\n",
    "         'DAL': '6',\n",
    "         'DEN': '7',\n",
    "         'DET': '8',\n",
    "         'GSW': '9',\n",
    "         'HOU': '10',\n",
    "         'IND': '11',\n",
    "         'LAC': '12',\n",
    "         'LAL': '13',\n",
    "         'MEM': '14',\n",
    "         'MIA': '15',\n",
    "         'MIL': '16',\n",
    "         'MIN': '17',\n",
    "         'NOP': '18',\n",
    "         'NYK': '19',\n",
    "         'OKC': '20',\n",
    "         'ORL': '21',\n",
    "         'PHI': '22',\n",
    "         'PHO': '23',\n",
    "         'POR': '24',\n",
    "         'SAC': '25',\n",
    "         'SAS': '26',\n",
    "         'TOR': '27',\n",
    "         'UTA': '28',\n",
    "         'WAS': '29'}\n",
    "\n",
    "main_dir = \"/Users/morganbauer/Documents/GitHub/fantasy_basketball/rnn_score_prediction/training_data\"\n",
    "dataset = None\n",
    "\n",
    "# Use to calculate mean and std dev\n",
    "all_fan_pts = np.zeros(24789)\n",
    "all_raw_data = np.zeros((24789, 24))\n",
    "fan_pts_index = 0\n",
    "raw_data_index = 0\n",
    "for sub_dir in os.listdir(main_dir):\n",
    "    path = f\"{main_dir}/{sub_dir}\"\n",
    "    try:\n",
    "        for file in os.listdir(path):\n",
    "            if file[:4] == '2023' or file[:4] == '2024':\n",
    "                file_path = f\"{path}/{file}\"\n",
    "                with open(file_path, \"r\") as infile:\n",
    "                    reader = csv.reader(infile)\n",
    "                    games = []\n",
    "                    for row in reader:\n",
    "                        try:\n",
    "                            row[3] = teams[row[3]]\n",
    "                            for pos, elem in enumerate(row):\n",
    "                                row[pos] = float(elem)\n",
    "                            games.append(row)\n",
    "                        except KeyError:\n",
    "                            pass\n",
    "                        except IndexError:\n",
    "                            pass\n",
    "                if len(games) > delay + 1:\n",
    "                    fan_pts = np.zeros(len(games))\n",
    "                    raw_data = np.zeros((len(games), len(games[0])))\n",
    "                    for i, game in enumerate(games):\n",
    "                        fan_pts[i] = game[1]\n",
    "                        raw_data[i, :] = game\n",
    "                        all_fan_pts[fan_pts_index] = game[1]\n",
    "                        all_raw_data[raw_data_index, :] = game\n",
    "                        fan_pts_index += 1\n",
    "                        raw_data_index += 1\n",
    "                    game_dataset = keras.utils.timeseries_dataset_from_array(\n",
    "                        raw_data[:-delay],\n",
    "                        targets = fan_pts[delay:],\n",
    "                        sampling_rate = sampling_rate,\n",
    "                        sequence_length = sequence_length,\n",
    "                        shuffle = True,\n",
    "                        batch_size = batch_size\n",
    "                    )\n",
    "                    if dataset == None:\n",
    "                        dataset = game_dataset\n",
    "                    else:\n",
    "                        dataset = dataset.concatenate(game_dataset)\n",
    "    except NotADirectoryError:\n",
    "        pass\n",
    "for samples, targets in dataset:\n",
    "    print(\"samples shape:\", samples.shape)\n",
    "    print(\"targets shape:\", targets.shape)\n",
    "    break"
   ]
  }
 ],
 "metadata": {
  "kernelspec": {
   "display_name": "Python 3.9.6 64-bit",
   "language": "python",
   "name": "python3"
  },
  "language_info": {
   "codemirror_mode": {
    "name": "ipython",
    "version": 3
   },
   "file_extension": ".py",
   "mimetype": "text/x-python",
   "name": "python",
   "nbconvert_exporter": "python",
   "pygments_lexer": "ipython3",
   "version": "3.9.6"
  },
  "orig_nbformat": 4,
  "vscode": {
   "interpreter": {
    "hash": "31f2aee4e71d21fbe5cf8b01ff0e069b9275f58929596ceb00d14d90e3e16cd6"
   }
  }
 },
 "nbformat": 4,
 "nbformat_minor": 2
}
